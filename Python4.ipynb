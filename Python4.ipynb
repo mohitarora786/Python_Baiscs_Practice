{
 "cells": [
  {
   "cell_type": "code",
   "execution_count": 1,
   "metadata": {},
   "outputs": [],
   "source": [
    "#creating dictionary in python"
   ]
  },
  {
   "cell_type": "code",
   "execution_count": 2,
   "metadata": {},
   "outputs": [
    {
     "name": "stdout",
     "output_type": "stream",
     "text": [
      "<class 'dict'>\n"
     ]
    }
   ],
   "source": [
    "dict = {}\n",
    "print(type(dict))"
   ]
  },
  {
   "cell_type": "code",
   "execution_count": 4,
   "metadata": {},
   "outputs": [
    {
     "name": "stdout",
     "output_type": "stream",
     "text": [
      "{'Name': 'Mohit Arora', 'Age': 22, 'Skills': ['java', 'python'], 'Places Visited': ('Goa', 'Hyderabad'), 'Other Details': {'Mobile_Number': 70009965674}}\n",
      "5\n"
     ]
    }
   ],
   "source": [
    "dict2={}\n",
    "dict2['Name']=\"Mohit Arora\"\n",
    "dict2['Age']= 22\n",
    "dict2['Skills']=['java','python']\n",
    "dict2['Places Visited']=('Goa','Hyderabad')\n",
    "dict2['Other Details']={'Mobile_Number':70009965674}\n",
    "print(dict2)\n",
    "#calculate length \n",
    "print(len(dict2))"
   ]
  },
  {
   "cell_type": "code",
   "execution_count": 10,
   "metadata": {},
   "outputs": [
    {
     "name": "stdout",
     "output_type": "stream",
     "text": [
      "22\n",
      "['java', 'python']\n",
      "{'Name': 'Mohit Arora', 'Age': 22, 'Skills': ['java', 'python'], 'Places Visited': ('Goa', 'Hyderabad'), 'Other Details': {'Mobile_Number': 70009965674}}\n"
     ]
    }
   ],
   "source": [
    "#update value on particular key \n",
    "print(dict2['Age'])\n",
    "print(dict2['Skills'])\n",
    "print(dict2)"
   ]
  },
  {
   "cell_type": "code",
   "execution_count": 14,
   "metadata": {},
   "outputs": [
    {
     "name": "stdout",
     "output_type": "stream",
     "text": [
      "python\n"
     ]
    }
   ],
   "source": [
    "#aceess particular agin like print secoary skills of the\n",
    "print(dict2['Skills'][1])"
   ]
  },
  {
   "cell_type": "code",
   "execution_count": null,
   "metadata": {},
   "outputs": [],
   "source": []
  }
 ],
 "metadata": {
  "kernelspec": {
   "display_name": "base",
   "language": "python",
   "name": "python3"
  },
  "language_info": {
   "codemirror_mode": {
    "name": "ipython",
    "version": 3
   },
   "file_extension": ".py",
   "mimetype": "text/x-python",
   "name": "python",
   "nbconvert_exporter": "python",
   "pygments_lexer": "ipython3",
   "version": "3.12.4"
  }
 },
 "nbformat": 4,
 "nbformat_minor": 2
}
