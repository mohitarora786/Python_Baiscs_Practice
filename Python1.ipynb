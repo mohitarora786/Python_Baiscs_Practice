{
 "cells": [
  {
   "cell_type": "code",
   "execution_count": 1,
   "id": "39da9423-917c-499a-9daa-3d576cac46fb",
   "metadata": {},
   "outputs": [
    {
     "data": {
      "text/plain": [
       "4"
      ]
     },
     "execution_count": 1,
     "metadata": {},
     "output_type": "execute_result"
    }
   ],
   "source": [
    "2+2"
   ]
  },
  {
   "cell_type": "code",
   "execution_count": 5,
   "id": "ada457d5-8382-4986-be9b-b4a95fe15f75",
   "metadata": {},
   "outputs": [
    {
     "name": "stdout",
     "output_type": "stream",
     "text": [
      "Value Of The Int_var is 10 Result Donne\n",
      "Value Of The Float_var is 10.2\n"
     ]
    }
   ],
   "source": [
    "#defining the variables\n",
    "int_var=10\n",
    "float_var=10.20\n",
    "print(\"Value Of The Int_var is\",int_var,\"Result Donne\")\n",
    "print(\"Value Of The Float_var is\",float_var)"
   ]
  },
  {
   "cell_type": "code",
   "execution_count": 14,
   "id": "a146a33b-c710-4feb-92ff-edc087b6b359",
   "metadata": {},
   "outputs": [
    {
     "name": "stdout",
     "output_type": "stream",
     "text": [
      "<class 'int'>\n"
     ]
    }
   ],
   "source": [
    "#Declaring the data type checking here \n",
    "print(type(int_var))"
   ]
  },
  {
   "cell_type": "code",
   "execution_count": 16,
   "id": "ed260182-1c8a-4516-b74b-0dc24463a70a",
   "metadata": {},
   "outputs": [
    {
     "name": "stdout",
     "output_type": "stream",
     "text": [
      "Enter the name mohit arora\n",
      "Enter the Age Please 21\n"
     ]
    },
    {
     "name": "stdout",
     "output_type": "stream",
     "text": [
      "mohit arora  21\n"
     ]
    }
   ],
   "source": [
    "# use of input function in python\n",
    "name = input(\"Enter the name\")\n",
    "age=input(\"Enter the Age Please\")\n",
    "print(name,\"\",age)"
   ]
  },
  {
   "cell_type": "code",
   "execution_count": 18,
   "id": "06c6fe0c-8d04-4ac9-beaa-4157af51b18b",
   "metadata": {},
   "outputs": [
    {
     "name": "stdout",
     "output_type": "stream",
     "text": [
      "Addition is  9\n",
      "Subtraction is  3\n",
      "Multiplication is  18\n",
      "Modulus is  0\n",
      "Float Div is  2.0\n",
      "Integer Div is  2\n"
     ]
    }
   ],
   "source": [
    "#operators in the python\n",
    "x=6\n",
    "y=3\n",
    "print(\"Addition is \",x+y)\n",
    "print(\"Subtraction is \",x-y)\n",
    "print(\"Multiplication is \",x*y)\n",
    "print(\"Modulus is \",x%y)\n",
    "print(\"Float Div is \",x/y)\n",
    "print(\"Integer Div is \",x//y)"
   ]
  },
  {
   "cell_type": "code",
   "execution_count": 26,
   "id": "eb607521-f651-440d-b9d3-2a411c62deac",
   "metadata": {},
   "outputs": [
    {
     "name": "stdout",
     "output_type": "stream",
     "text": [
      "Shashnk  mishra\n"
     ]
    }
   ],
   "source": [
    "# + operation is for concatenation\n",
    "\n",
    "name=\"Shashnk \"\n",
    "empty_str=\" \"\n",
    "print(name+empty_str+\"mishra\")"
   ]
  },
  {
   "cell_type": "code",
   "execution_count": 28,
   "id": "b27fd8da-ddea-476d-a7c5-ca1b19ac0238",
   "metadata": {},
   "outputs": [
    {
     "ename": "TypeError",
     "evalue": "unsupported operand type(s) for ** or pow(): 'str' and 'int'",
     "output_type": "error",
     "traceback": [
      "\u001b[1;31m---------------------------------------------------------------------------\u001b[0m",
      "\u001b[1;31mTypeError\u001b[0m                                 Traceback (most recent call last)",
      "Cell \u001b[1;32mIn[28], line 4\u001b[0m\n\u001b[0;32m      2\u001b[0m name\u001b[38;5;241m=\u001b[39m\u001b[38;5;124m\"\u001b[39m\u001b[38;5;124mShashnk \u001b[39m\u001b[38;5;124m\"\u001b[39m\n\u001b[0;32m      3\u001b[0m empty_str\u001b[38;5;241m=\u001b[39m\u001b[38;5;241m4\u001b[39m\n\u001b[1;32m----> 4\u001b[0m \u001b[38;5;28mprint\u001b[39m(name \u001b[38;5;241m*\u001b[39m\u001b[38;5;241m*\u001b[39m empty_str)\n",
      "\u001b[1;31mTypeError\u001b[0m: unsupported operand type(s) for ** or pow(): 'str' and 'int'"
     ]
    }
   ],
   "source": [
    "#no other poperration except + works\n",
    "name=\"Shashnk \"\n",
    "empty_str=4\n",
    "print(name ** empty_str)"
   ]
  },
  {
   "cell_type": "code",
   "execution_count": 30,
   "id": "4a054b55-c427-4bc4-955d-5a0e53d7b4c9",
   "metadata": {},
   "outputs": [
    {
     "name": "stdout",
     "output_type": "stream",
     "text": [
      "No It Is\n"
     ]
    }
   ],
   "source": [
    "#Decision making in python \n",
    "# if-else in python\n",
    "a=8\n",
    "b=9\n",
    "if(a==b):\n",
    "    print(\"Yes It Is\")\n",
    "\n",
    "else:\n",
    "    print(\"No It Is\")"
   ]
  },
  {
   "cell_type": "code",
   "execution_count": 40,
   "id": "f1cd752e-daf8-4e75-a03e-1ed3af91bdd0",
   "metadata": {},
   "outputs": [
    {
     "name": "stdout",
     "output_type": "stream",
     "text": [
      "pleasse enter your marks 40\n"
     ]
    },
    {
     "name": "stdout",
     "output_type": "stream",
     "text": [
      "Grade Below Average \n"
     ]
    }
   ],
   "source": [
    "# nested condition checking\n",
    "\n",
    "marks=int(input(\"pleasse enter your marks\")) # typecastibg is required here\n",
    "if(marks > 90):\n",
    "    print(\"Grade A++\")\n",
    "\n",
    "elif(marks>80):\n",
    "    print(\"Grade A\")\n",
    "elif(marks>70):\n",
    "    print(\"Grade B\")\n",
    "\n",
    "else:\n",
    "    print(\"Grade Below Average \")"
   ]
  },
  {
   "cell_type": "code",
   "execution_count": 1,
   "id": "2348b695-ebc9-4701-8fe0-223fc541be90",
   "metadata": {},
   "outputs": [
    {
     "data": {
      "text/plain": [
       "4"
      ]
     },
     "execution_count": 1,
     "metadata": {},
     "output_type": "execute_result"
    }
   ],
   "source": [
    "2+2"
   ]
  },
  {
   "cell_type": "code",
   "execution_count": 2,
   "id": "0f066fec",
   "metadata": {},
   "outputs": [
    {
     "name": "stdout",
     "output_type": "stream",
     "text": [
      "5\n"
     ]
    }
   ],
   "source": [
    "cars = 5\n",
    "print(cars)"
   ]
  },
  {
   "cell_type": "code",
   "execution_count": null,
   "id": "865a29eb",
   "metadata": {},
   "outputs": [],
   "source": []
  }
 ],
 "metadata": {
  "kernelspec": {
   "display_name": "Python 3 (ipykernel)",
   "language": "python",
   "name": "python3"
  },
  "language_info": {
   "codemirror_mode": {
    "name": "ipython",
    "version": 3
   },
   "file_extension": ".py",
   "mimetype": "text/x-python",
   "name": "python",
   "nbconvert_exporter": "python",
   "pygments_lexer": "ipython3",
   "version": "3.12.4"
  }
 },
 "nbformat": 4,
 "nbformat_minor": 5
}
