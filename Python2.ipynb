{
 "cells": [
  {
   "cell_type": "code",
   "execution_count": 1,
   "metadata": {},
   "outputs": [
    {
     "data": {
      "text/plain": [
       "4"
      ]
     },
     "execution_count": 1,
     "metadata": {},
     "output_type": "execute_result"
    }
   ],
   "source": [
    "2*2"
   ]
  },
  {
   "cell_type": "code",
   "execution_count": 2,
   "metadata": {},
   "outputs": [
    {
     "name": "stdout",
     "output_type": "stream",
     "text": [
      "1\n",
      "2\n",
      "3\n",
      "4\n",
      "5\n",
      "6\n",
      "7\n",
      "8\n",
      "9\n",
      "10\n"
     ]
    },
    {
     "name": "stdout",
     "output_type": "stream",
     "text": [
      "The history saving thread hit an unexpected error (OperationalError('database or disk is full')).History will not be written to the database.\n"
     ]
    }
   ],
   "source": [
    "#for loop syntax\n",
    "for i in range(1,11):\n",
    "    print(i)"
   ]
  },
  {
   "cell_type": "code",
   "execution_count": 3,
   "metadata": {},
   "outputs": [
    {
     "name": "stdout",
     "output_type": "stream",
     "text": [
      "1\n",
      "4\n",
      "7\n",
      "10\n"
     ]
    }
   ],
   "source": [
    "# for loop gap of 3 now print 1 to 11\n",
    "for i in range(1,11,3):\n",
    "    print(i)"
   ]
  },
  {
   "cell_type": "code",
   "execution_count": 6,
   "metadata": {},
   "outputs": [
    {
     "name": "stdout",
     "output_type": "stream",
     "text": [
      "21\n"
     ]
    }
   ],
   "source": [
    "int_list = [1,2,-3,5,6,7]\n",
    "sum =0\n",
    "for i in range(1,len(int_list)+1,1):\n",
    "    sum=sum+i\n",
    "\n",
    "print(sum)    "
   ]
  },
  {
   "cell_type": "code",
   "execution_count": 4,
   "metadata": {},
   "outputs": [
    {
     "name": "stdout",
     "output_type": "stream",
     "text": [
      "Processing 1\n",
      "Processing 2\n",
      "Processing 3\n",
      "Processing 4\n",
      "Skipping 5\n",
      "Processing 6\n",
      "Processing 7\n",
      "Processing 8\n",
      "Breaking at 8\n",
      "Loop ended\n"
     ]
    }
   ],
   "source": [
    "i = 1\n",
    "while i <= 10:\n",
    "    if i == 5:\n",
    "        print(\"Skipping\", i)\n",
    "        i += 1\n",
    "        continue  # Skip the rest of the loop when i is 5\n",
    "    print(\"Processing\", i)\n",
    "    if i == 8:\n",
    "        print(\"Breaking at\", i)\n",
    "        break  # Exit the loop when i is 8\n",
    "    i += 1\n",
    "\n",
    "print(\"Loop ended\")\n"
   ]
  },
  {
   "cell_type": "code",
   "execution_count": 8,
   "metadata": {},
   "outputs": [
    {
     "name": "stdout",
     "output_type": "stream",
     "text": [
      "This is an even number: 10\n",
      "Loop ended\n"
     ]
    }
   ],
   "source": [
    "int_list = [1, 3, 5, 7, 9, 10, 2, 22, 1]\n",
    "for i in int_list:\n",
    "    if i % 2 == 0:  # Check if the current element is even\n",
    "        print(\"This is an even number:\", i)\n",
    "        break  # Exit the loop when the first even number is found\n",
    "\n",
    "print(\"Loop ended\")\n",
    "    "
   ]
  },
  {
   "cell_type": "code",
   "execution_count": 9,
   "metadata": {},
   "outputs": [
    {
     "name": "stdout",
     "output_type": "stream",
     "text": [
      "This is an even number: 10\n",
      "This is an even number: 2\n",
      "This is an even number: 22\n",
      "Loop ended\n"
     ]
    }
   ],
   "source": [
    "int_list = [1, 3, 5, 7, 9, 10, 2, 22, 1]\n",
    "for i in int_list:\n",
    "    if i % 2 == 0:  # Check if the current element is even\n",
    "        print(\"This is an even number:\", i)\n",
    "        continue  # Exit the loop when the first even number is found\n",
    "\n",
    "print(\"Loop ended\")\n"
   ]
  },
  {
   "cell_type": "code",
   "execution_count": 21,
   "metadata": {},
   "outputs": [
    {
     "name": "stdout",
     "output_type": "stream",
     "text": [
      "Number greater than 10: 11\n",
      "Number greater than 10: 12\n",
      "Number greater than 10: 13\n",
      "Number greater than 10: 14\n",
      "Number greater than 10: 15\n",
      "Number greater than 10: 16\n",
      "Number greater than 10: 17\n",
      "Number greater than 10: 18\n",
      "Number greater than 10: 19\n",
      "Number greater than 10: 20\n"
     ]
    }
   ],
   "source": [
    "for i in range(1, 21):\n",
    "    if i <= 10:  # Skip numbers less than or equal to 10\n",
    "        continue\n",
    "    print(\"Number greater than 10:\", i)\n"
   ]
  },
  {
   "cell_type": "code",
   "execution_count": null,
   "metadata": {},
   "outputs": [],
   "source": []
  }
 ],
 "metadata": {
  "kernelspec": {
   "display_name": "base",
   "language": "python",
   "name": "python3"
  },
  "language_info": {
   "codemirror_mode": {
    "name": "ipython",
    "version": 3
   },
   "file_extension": ".py",
   "mimetype": "text/x-python",
   "name": "python",
   "nbconvert_exporter": "python",
   "pygments_lexer": "ipython3",
   "version": "3.12.4"
  }
 },
 "nbformat": 4,
 "nbformat_minor": 2
}
