{
 "cells": [
  {
   "cell_type": "code",
   "execution_count": 1,
   "metadata": {},
   "outputs": [],
   "source": [
    "#lists tuples dictionary"
   ]
  },
  {
   "cell_type": "code",
   "execution_count": 2,
   "metadata": {},
   "outputs": [
    {
     "name": "stdout",
     "output_type": "stream",
     "text": [
      "<class 'list'>\n"
     ]
    }
   ],
   "source": [
    "# lists creation\n",
    "# empty lists\n",
    "l1=[]\n",
    "print(type(l1))"
   ]
  },
  {
   "cell_type": "code",
   "execution_count": 6,
   "metadata": {},
   "outputs": [
    {
     "name": "stdout",
     "output_type": "stream",
     "text": [
      "[1, 1, 10, 11, 12, 1, 10, 11, 12]\n"
     ]
    }
   ],
   "source": [
    "#insert the values in the lists using the method append \n",
    "l1.append(1)\n",
    "l1.append(10)\n",
    "l1.append(11)\n",
    "l1.append(12)\n",
    "print(l1)"
   ]
  },
  {
   "cell_type": "code",
   "execution_count": 7,
   "metadata": {},
   "outputs": [
    {
     "name": "stdout",
     "output_type": "stream",
     "text": [
      "[1, 10, 11, 12]\n"
     ]
    }
   ],
   "source": [
    "l2=[]\n",
    "l2.append(1)\n",
    "l2.append(10)\n",
    "l2.append(11)\n",
    "l2.append(12)\n",
    "print(l2)"
   ]
  },
  {
   "cell_type": "code",
   "execution_count": 11,
   "metadata": {},
   "outputs": [
    {
     "name": "stdout",
     "output_type": "stream",
     "text": [
      "[20, 30, 40, 50, 60, 70, 80, 90]\n",
      "[50, 60, 70, 80, 90]\n",
      "[70, 80, 90]\n",
      "[40, 60]\n"
     ]
    }
   ],
   "source": [
    "#slicing \n",
    "#end eleemnt is exclusive\n",
    "list13=[20,30,40,50,60,70,80,90]\n",
    "print(list13[0:])\n",
    "print(list13[3:])\n",
    "print(list13[5:])\n",
    "print(list13[2:6:2])"
   ]
  },
  {
   "cell_type": "code",
   "execution_count": 15,
   "metadata": {},
   "outputs": [
    {
     "name": "stdout",
     "output_type": "stream",
     "text": [
      "90\n",
      "80\n",
      "30\n"
     ]
    }
   ],
   "source": [
    "list13=[20,30,40,50,60,70,80,90]\n",
    "#print last element of lis\n",
    "print(list13[-1])\n",
    "#print second last element of lis\n",
    "print(list13[-2])\n",
    "#print first element of lis\n",
    "print(list13[1])"
   ]
  },
  {
   "cell_type": "code",
   "execution_count": 17,
   "metadata": {},
   "outputs": [
    {
     "name": "stdout",
     "output_type": "stream",
     "text": [
      "[90, 80, 70, 60, 50, 40, 30, 20]\n"
     ]
    }
   ],
   "source": [
    "list13=[20,30,40,50,60,70,80,90]\n",
    "#reverse list in python using slicing\n",
    "print(list13[-1: :-1])"
   ]
  },
  {
   "cell_type": "code",
   "execution_count": 19,
   "metadata": {},
   "outputs": [
    {
     "name": "stdout",
     "output_type": "stream",
     "text": [
      "5\n",
      "5\n",
      "5\n"
     ]
    }
   ],
   "source": [
    "#strings in python\n",
    "str1=\"Mohit\"\n",
    "str2=\"Rohit\"\n",
    "str3=\"Sohit\"\n",
    "print(len(str1))\n",
    "print(len(str2))\n",
    "print(len(str3))"
   ]
  },
  {
   "cell_type": "code",
   "execution_count": 21,
   "metadata": {},
   "outputs": [
    {
     "name": "stdout",
     "output_type": "stream",
     "text": [
      "Shashank \n",
      "is a very\n",
      "fool\n"
     ]
    }
   ],
   "source": [
    "#multiline string\n",
    "strings5='''Shashank \n",
    "is a very\n",
    "fool'''\n",
    "print(strings5)"
   ]
  },
  {
   "cell_type": "code",
   "execution_count": 22,
   "metadata": {},
   "outputs": [
    {
     "name": "stdout",
     "output_type": "stream",
     "text": [
      "mohitrohit\n",
      "False\n"
     ]
    }
   ],
   "source": [
    "#string concatenation\n",
    "strings9=\"mohit\"\n",
    "strings10=\"rohit\"\n",
    "print(strings9+strings10)\n",
    "#string comparison\n",
    "print(strings9==strings10)"
   ]
  },
  {
   "cell_type": "code",
   "execution_count": 23,
   "metadata": {},
   "outputs": [
    {
     "name": "stdout",
     "output_type": "stream",
     "text": [
      "r\n",
      "o\n",
      "h\n",
      "i\n",
      "t\n"
     ]
    }
   ],
   "source": [
    "#print each character in string print\n",
    "for char in strings10:\n",
    "    print(char)"
   ]
  },
  {
   "cell_type": "code",
   "execution_count": 24,
   "metadata": {},
   "outputs": [
    {
     "ename": "TypeError",
     "evalue": "'str' object does not support item assignment",
     "output_type": "error",
     "traceback": [
      "\u001b[1;31m---------------------------------------------------------------------------\u001b[0m",
      "\u001b[1;31mTypeError\u001b[0m                                 Traceback (most recent call last)",
      "Cell \u001b[1;32mIn[24], line 3\u001b[0m\n\u001b[0;32m      1\u001b[0m \u001b[38;5;66;03m#updation in string characters\u001b[39;00m\n\u001b[0;32m      2\u001b[0m steri\u001b[38;5;241m=\u001b[39m\u001b[38;5;124m\"\u001b[39m\u001b[38;5;124mMohit Arora\u001b[39m\u001b[38;5;124m\"\u001b[39m\n\u001b[1;32m----> 3\u001b[0m steri[\u001b[38;5;241m3\u001b[39m]\u001b[38;5;241m=\u001b[39m\u001b[38;5;124m\"\u001b[39m\u001b[38;5;124mAA\u001b[39m\u001b[38;5;124m\"\u001b[39m\n\u001b[0;32m      4\u001b[0m \u001b[38;5;28mprint\u001b[39m(steri)\n",
      "\u001b[1;31mTypeError\u001b[0m: 'str' object does not support item assignment"
     ]
    }
   ],
   "source": [
    "#updation in string characters\n",
    "steri=\"Mohit Arora\"\n",
    "steri[3]=\"AA\"\n",
    "print(steri)"
   ]
  },
  {
   "cell_type": "code",
   "execution_count": null,
   "metadata": {},
   "outputs": [],
   "source": []
  }
 ],
 "metadata": {
  "kernelspec": {
   "display_name": "base",
   "language": "python",
   "name": "python3"
  },
  "language_info": {
   "codemirror_mode": {
    "name": "ipython",
    "version": 3
   },
   "file_extension": ".py",
   "mimetype": "text/x-python",
   "name": "python",
   "nbconvert_exporter": "python",
   "pygments_lexer": "ipython3",
   "version": "3.12.4"
  }
 },
 "nbformat": 4,
 "nbformat_minor": 2
}
