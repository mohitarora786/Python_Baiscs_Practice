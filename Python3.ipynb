{
 "cells": [
  {
   "cell_type": "code",
   "execution_count": 1,
   "metadata": {},
   "outputs": [],
   "source": [
    "#lists tuples dictionary"
   ]
  },
  {
   "cell_type": "code",
   "execution_count": 2,
   "metadata": {},
   "outputs": [
    {
     "name": "stdout",
     "output_type": "stream",
     "text": [
      "<class 'list'>\n"
     ]
    }
   ],
   "source": [
    "# lists creation\n",
    "# empty lists\n",
    "l1=[]\n",
    "print(type(l1))"
   ]
  },
  {
   "cell_type": "code",
   "execution_count": 6,
   "metadata": {},
   "outputs": [
    {
     "name": "stdout",
     "output_type": "stream",
     "text": [
      "[1, 1, 10, 11, 12, 1, 10, 11, 12]\n"
     ]
    }
   ],
   "source": [
    "#insert the values in the lists using the method append \n",
    "l1.append(1)\n",
    "l1.append(10)\n",
    "l1.append(11)\n",
    "l1.append(12)\n",
    "print(l1)"
   ]
  },
  {
   "cell_type": "code",
   "execution_count": 7,
   "metadata": {},
   "outputs": [
    {
     "name": "stdout",
     "output_type": "stream",
     "text": [
      "[1, 10, 11, 12]\n"
     ]
    }
   ],
   "source": [
    "l2=[]\n",
    "l2.append(1)\n",
    "l2.append(10)\n",
    "l2.append(11)\n",
    "l2.append(12)\n",
    "print(l2)"
   ]
  },
  {
   "cell_type": "code",
   "execution_count": 11,
   "metadata": {},
   "outputs": [
    {
     "name": "stdout",
     "output_type": "stream",
     "text": [
      "[20, 30, 40, 50, 60, 70, 80, 90]\n",
      "[50, 60, 70, 80, 90]\n",
      "[70, 80, 90]\n",
      "[40, 60]\n"
     ]
    }
   ],
   "source": [
    "#slicing \n",
    "#end eleemnt is exclusive\n",
    "list13=[20,30,40,50,60,70,80,90]\n",
    "print(list13[0:])\n",
    "print(list13[3:])\n",
    "print(list13[5:])\n",
    "print(list13[2:6:2])"
   ]
  },
  {
   "cell_type": "code",
   "execution_count": 15,
   "metadata": {},
   "outputs": [
    {
     "name": "stdout",
     "output_type": "stream",
     "text": [
      "90\n",
      "80\n",
      "30\n"
     ]
    }
   ],
   "source": [
    "list13=[20,30,40,50,60,70,80,90]\n",
    "#print last element of lis\n",
    "print(list13[-1])\n",
    "#print second last element of lis\n",
    "print(list13[-2])\n",
    "#print first element of lis\n",
    "print(list13[1])"
   ]
  },
  {
   "cell_type": "code",
   "execution_count": null,
   "metadata": {},
   "outputs": [],
   "source": []
  }
 ],
 "metadata": {
  "kernelspec": {
   "display_name": "base",
   "language": "python",
   "name": "python3"
  },
  "language_info": {
   "codemirror_mode": {
    "name": "ipython",
    "version": 3
   },
   "file_extension": ".py",
   "mimetype": "text/x-python",
   "name": "python",
   "nbconvert_exporter": "python",
   "pygments_lexer": "ipython3",
   "version": "3.12.4"
  }
 },
 "nbformat": 4,
 "nbformat_minor": 2
}
